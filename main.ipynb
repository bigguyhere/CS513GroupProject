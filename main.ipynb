{
 "cells": [
  {
   "cell_type": "code",
   "execution_count": null,
   "metadata": {},
   "outputs": [],
   "source": [
    "import pandas as pds\n",
    "import numpy as np\n",
    "import os\n",
    "from IPython.display import display"
   ]
  },
  {
   "cell_type": "code",
   "execution_count": null,
   "metadata": {},
   "outputs": [],
   "source": [
    "# Read and join tables\n",
    "\n",
    "leaderboards = pds.read_csv(os.path.join(os.getcwd(),\"data\\\\v1\\\\leaderboards-data.csv\"), parse_dates=['date', 'verifiedDate'])\n",
    "games = pds.read_csv(os.path.join(os.getcwd(),\"data\\\\v1\\\\games-data.csv\"), parse_dates=['releaseDate', 'createdDate'])\n",
    "users = pds.read_csv(os.path.join(os.getcwd(),\"data\\\\v1\\\\users-data.csv\"), parse_dates=['signupDate'])\n",
    "categories = pds.read_csv(os.path.join(os.getcwd(),\"data\\\\v1\\\\categories-data.csv\"))\n",
    "\n",
    "data_frame = leaderboards.merge(games, left_on=\"gameID\", right_on=\"ID\", how=\"left\", suffixes=('_df1', '_gme'))\n",
    "data_frame = data_frame.merge(users, left_on=\"players\", right_on=\"ID\", how=\"left\", suffixes=('_df2', '_usr'))\n",
    "data_frame = data_frame.merge(categories, left_on=\"categoryID\", right_on=\"ID\", how=\"left\", suffixes=('_df3', '_cat'))\n",
    "target = data_frame['emulated']\n",
    "data_frame = data_frame.drop(columns=['runID', 'ID_df2', 'name_df2', 'URL', 'name_usr', 'parentGameID', 'ID', 'name', 'rules'])\n",
    " \n",
    "# Split players rows where there are multiple players into multiple rows \n",
    "cols = list(data_frame.columns.drop('players' ))\n",
    "data_frame = (data_frame\n",
    "   .set_index(cols)\n",
    "   .stack()\n",
    "   .str.split(',', expand=True)\n",
    "   .stack()\n",
    "   .unstack(-2)\n",
    "   .reset_index(-1, drop=True)\n",
    "   .reset_index()\n",
    ")\n",
    "\n"
   ]
  },
  {
   "cell_type": "code",
   "execution_count": null,
   "metadata": {},
   "outputs": [],
   "source": [
    "# Print Table\n",
    "\n",
    "pds.set_option('display.max_columns', None)\n",
    "#data_frame = data_frame.rename(columns={})\n",
    "display(data_frame)"
   ]
  },
  {
   "cell_type": "code",
   "execution_count": null,
   "metadata": {},
   "outputs": [],
   "source": [
    "# Preprocessing\n",
    "\n",
    "uniqueLocations = data_frame['location'].unique()\n",
    "locationMappings = dict(zip(uniqueLocations, range(len(uniqueLocations))))\n",
    "data_frame = data_frame.replace({'location': locationMappings})\n",
    "\n",
    "#TODO: Replace NAs before converting to unix timestamp\n",
    "data_frame['date'] = data_frame['date'].astype('int64') // (10**9)\n",
    "data_frame['verifiedDate'] = data_frame['verifiedDate'].astype('int64') // (10**9)\n",
    "data_frame['releaseDate'] = data_frame['releaseDate'].astype('int64') // (10**9)\n",
    "data_frame['createdDate'] = data_frame['createdDate'].astype('int64') // (10**9)\n",
    "data_frame['signupDate'] = data_frame['signupDate'].astype('int64') // (10**9)\n",
    "display(data_frame)"
   ]
  }
 ],
 "metadata": {
  "kernelspec": {
   "display_name": "Python 3",
   "language": "python",
   "name": "python3"
  },
  "language_info": {
   "codemirror_mode": {
    "name": "ipython",
    "version": 3
   },
   "file_extension": ".py",
   "mimetype": "text/x-python",
   "name": "python",
   "nbconvert_exporter": "python",
   "pygments_lexer": "ipython3",
   "version": "3.11.2"
  }
 },
 "nbformat": 4,
 "nbformat_minor": 2
}

{
 "cells": [
  {
   "cell_type": "code",
   "execution_count": null,
   "metadata": {},
   "outputs": [],
   "source": [
    "import pandas as pds\n",
    "import numpy as np\n",
    "import os\n",
    "from IPython.display import display"
   ]
  },
  {
   "cell_type": "code",
   "execution_count": null,
   "metadata": {},
   "outputs": [],
   "source": [
    "# Read and join tables\n",
    "\n",
    "leaderboards = pds.read_csv(os.path.join(os.getcwd(),\"data\\\\v1\\\\leaderboards-data.csv\"), parse_dates=['date', 'verifiedDate'])\n",
    "games = pds.read_csv(os.path.join(os.getcwd(),\"data\\\\v1\\\\games-data.csv\"), parse_dates=['releaseDate', 'createdDate'])\n",
    "users = pds.read_csv(os.path.join(os.getcwd(),\"data\\\\v1\\\\users-data.csv\"), parse_dates=['signupDate'])\n",
    "\n",
    "data_frame = leaderboards.merge(games, left_on=\"gameID\", right_on=\"ID\", how=\"left\")\n",
    "data_frame = data_frame.merge(users, left_on=\"players\", right_on=\"ID\", how=\"left\")\n",
    "\n",
    "target = data_frame['emulated']\n",
    "data_frame = data_frame.drop(columns=['runID', 'ID_x'])"
   ]
  },
  {
   "cell_type": "code",
   "execution_count": null,
   "metadata": {},
   "outputs": [],
   "source": [
    "# Print Table\n",
    "\n",
    "pds.set_option('display.max_columns', None)\n",
    "data_frame = data_frame.rename(columns={'name_x': 'gameName', 'URL': 'gameURL', 'ID_y': 'userID', 'name_y': 'username'})\n",
    "display(data_frame)"
   ]
  },
  {
   "cell_type": "code",
   "execution_count": null,
   "metadata": {},
   "outputs": [],
   "source": [
    "# Preprocessing\n",
    "\n",
    "uniqueLocations = data_frame['location'].unique()\n",
    "locationMappings = dict(zip(uniqueLocations, range(len(uniqueLocations))))\n",
    "data_frame = data_frame.replace({'location': locationMappings})\n",
    "\n",
    "#TODO: Replace NAs before converting to unix timestamp\n",
    "data_frame['date'] = data_frame['date'].astype('int64') // (10**9)\n",
    "data_frame['verifiedDate'] = data_frame['verifiedDate'].astype('int64') // (10**9)\n",
    "data_frame['releaseDate'] = data_frame['releaseDate'].astype('int64') // (10**9)\n",
    "data_frame['createdDate'] = data_frame['createdDate'].astype('int64') // (10**9)\n",
    "data_frame['signupDate'] = data_frame['signupDate'].astype('int64') // (10**9)\n",
    "display(data_frame)"
   ]
  }
 ],
 "metadata": {
  "kernelspec": {
   "display_name": "Python 3",
   "language": "python",
   "name": "python3"
  },
  "language_info": {
   "codemirror_mode": {
    "name": "ipython",
    "version": 3
   },
   "file_extension": ".py",
   "mimetype": "text/x-python",
   "name": "python",
   "nbconvert_exporter": "python",
   "pygments_lexer": "ipython3",
   "version": "3.11.2"
  }
 },
 "nbformat": 4,
 "nbformat_minor": 2
}

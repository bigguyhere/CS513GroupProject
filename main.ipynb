{
 "cells": [
  {
   "cell_type": "code",
   "execution_count": null,
   "metadata": {},
   "outputs": [],
   "source": [
    "import pandas as pds\n",
    "import numpy as np\n",
    "import os\n",
    "from IPython.display import display"
   ]
  },
  {
   "cell_type": "code",
   "execution_count": null,
   "metadata": {},
   "outputs": [],
   "source": [
    "# Read and join tables\n",
    "dir = os.getcwd()\n",
    "\n",
    "leaderboards = pds.read_csv(os.path.join(dir,\"data\\\\v1\\\\leaderboards-data.csv\"), parse_dates=['date', 'verifiedDate'])\n",
    "games = pds.read_csv(os.path.join(dir,\"data\\\\v1\\\\games-data.csv\"), parse_dates=['releaseDate', 'createdDate'])\n",
    "users = pds.read_csv(os.path.join(dir,\"data\\\\v1\\\\users-data.csv\"), parse_dates=['signupDate'])\n",
    "\n",
    "data_frame = leaderboards.merge(games, left_on=\"gameID\", right_on=\"ID\", how=\"left\")\n",
    "data_frame = data_frame.merge(users, left_on=\"players\", right_on=\"ID\", how=\"left\")\n",
    "\n",
    "for col in data_frame.columns[data_frame.dtypes == 'object']:\n",
    "    data_frame[col] = data_frame[col].astype('category')\n",
    "\n",
    "target = data_frame['emulated']\n",
    "data_frame = data_frame.drop(columns=['runID', 'ID_x'])\n",
    "data_frame = data_frame.rename(columns={'name_x': 'gameName', 'URL': 'gameURL', 'ID_y': 'userID', 'name_y': 'username'})"
   ]
  },
  {
   "cell_type": "code",
   "execution_count": null,
   "metadata": {},
   "outputs": [],
   "source": [
    "# Print Table\n",
    "\n",
    "pds.set_option('display.max_columns', None)\n",
    "display(data_frame)\n",
    "print(data_frame.dtypes)"
   ]
  },
  {
   "cell_type": "code",
   "execution_count": null,
   "metadata": {},
   "outputs": [],
   "source": [
    "# Preprocessing\n",
    "\n",
    "def replaceNaNsWithMostFrequent(value):\n",
    "    return value.fillna(value.mode()[0])\n",
    "\n",
    "def replaceNaNsWithMean(value):\n",
    "    return value.fillna(value.mean())\n",
    "\n",
    "def mapValuesToIntegers(value):\n",
    "    return value.cat.codes\n",
    "\n",
    "def convertToUNIXTimestamp(date):\n",
    "    return (date.fillna(\"1970-01-01\").astype('int64') // (10**9)).replace(0, np.NaN)\n",
    "\n",
    "data_frame[['date', \n",
    "            'verifiedDate', \n",
    "            'releaseDate', \n",
    "            'createdDate', \n",
    "            'signupDate']] = data_frame[['date', \n",
    "                                         'verifiedDate', \n",
    "                                         'releaseDate', \n",
    "                                         'createdDate', \n",
    "                                         'signupDate']].apply(convertToUNIXTimestamp)\n",
    "data_frame[['date', \n",
    "            'verifiedDate', \n",
    "            'releaseDate', \n",
    "            'createdDate', \n",
    "            'signupDate']] = data_frame[['date', \n",
    "                                         'verifiedDate', \n",
    "                                         'releaseDate', \n",
    "                                         'createdDate', \n",
    "                                         'signupDate']].apply(replaceNaNsWithMean)\n",
    "\n",
    "for col in data_frame.columns[data_frame.dtypes == 'category']:\n",
    "    data_frame[[col]] = data_frame[[col]].apply(replaceNaNsWithMostFrequent)\n",
    "    data_frame[[col]] = data_frame[[col]].apply(mapValuesToIntegers)\n",
    "\n",
    "display(data_frame)\n",
    "print(data_frame.dtypes)"
   ]
  }
 ],
 "metadata": {
  "kernelspec": {
   "display_name": "Python 3",
   "language": "python",
   "name": "python3"
  },
  "language_info": {
   "codemirror_mode": {
    "name": "ipython",
    "version": 3
   },
   "file_extension": ".py",
   "mimetype": "text/x-python",
   "name": "python",
   "nbconvert_exporter": "python",
   "pygments_lexer": "ipython3",
   "version": "3.11.2"
  }
 },
 "nbformat": 4,
 "nbformat_minor": 2
}
